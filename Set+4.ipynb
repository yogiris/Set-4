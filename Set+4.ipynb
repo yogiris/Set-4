{
 "cells": [
  {
   "cell_type": "code",
   "execution_count": 1,
   "id": "15ee213e",
   "metadata": {},
   "outputs": [],
   "source": [
    "import numpy as np\n",
    "from scipy import stats\n",
    "from scipy.stats import norm"
   ]
  },
  {
   "cell_type": "code",
   "execution_count": 2,
   "id": "6ca50aa1",
   "metadata": {},
   "outputs": [],
   "source": [
    "# for no investigation, the probability of 45<X<55. so for investigation probability =1-P(45<X<55).\n",
    "#N=100, population mean=50, sample mean=45(for P at 45. for P at 55 it is 55, stdeviation=40"
   ]
  },
  {
   "cell_type": "code",
   "execution_count": 4,
   "id": "c472815c",
   "metadata": {},
   "outputs": [
    {
     "data": {
      "text/plain": [
       "-1.25"
      ]
     },
     "execution_count": 4,
     "metadata": {},
     "output_type": "execute_result"
    }
   ],
   "source": [
    "z45=(45-50)/(40/100**0.5)\n",
    "z45"
   ]
  },
  {
   "cell_type": "code",
   "execution_count": 5,
   "id": "1e56f213",
   "metadata": {},
   "outputs": [
    {
     "data": {
      "text/plain": [
       "1.25"
      ]
     },
     "execution_count": 5,
     "metadata": {},
     "output_type": "execute_result"
    }
   ],
   "source": [
    "z55=(55-50)/(40/100**0.5)\n",
    "z55"
   ]
  },
  {
   "cell_type": "code",
   "execution_count": 6,
   "id": "2daa7eb8",
   "metadata": {},
   "outputs": [
    {
     "data": {
      "text/plain": [
       "0.7887004526662893"
      ]
     },
     "execution_count": 6,
     "metadata": {},
     "output_type": "execute_result"
    }
   ],
   "source": [
    "# For No investigation P(45<X<55) using z_scores = P(X<55)-P(X<45)\n",
    "zinv=stats.norm.cdf(1.25)-stats.norm.cdf(-1.25)\n",
    "zinv"
   ]
  },
  {
   "cell_type": "code",
   "execution_count": 7,
   "id": "995e05f6",
   "metadata": {},
   "outputs": [
    {
     "data": {
      "text/plain": [
       "0.21130000000000004"
      ]
     },
     "execution_count": 7,
     "metadata": {},
     "output_type": "execute_result"
    }
   ],
   "source": [
    "# For Investigation 1-P(45<X<55)\n",
    "znoinv=1-0.7887\n",
    "znoinv"
   ]
  },
  {
   "cell_type": "code",
   "execution_count": 8,
   "id": "76116ec1",
   "metadata": {},
   "outputs": [
    {
     "data": {
      "text/plain": [
       "21.130000000000003"
      ]
     },
     "execution_count": 8,
     "metadata": {},
     "output_type": "execute_result"
    }
   ],
   "source": [
    "znoinv*100"
   ]
  },
  {
   "cell_type": "code",
   "execution_count": null,
   "id": "51b43129",
   "metadata": {},
   "outputs": [],
   "source": []
  }
 ],
 "metadata": {
  "kernelspec": {
   "display_name": "Python 3 (ipykernel)",
   "language": "python",
   "name": "python3"
  },
  "language_info": {
   "codemirror_mode": {
    "name": "ipython",
    "version": 3
   },
   "file_extension": ".py",
   "mimetype": "text/x-python",
   "name": "python",
   "nbconvert_exporter": "python",
   "pygments_lexer": "ipython3",
   "version": "3.10.9"
  }
 },
 "nbformat": 4,
 "nbformat_minor": 5
}
